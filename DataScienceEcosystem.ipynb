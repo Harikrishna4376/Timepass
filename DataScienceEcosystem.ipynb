{
 "cells": [
  {
   "cell_type": "markdown",
   "id": "2369d8dc-d67b-4293-b758-7c65436527cf",
   "metadata": {},
   "source": [
    "# Data Science Tools and Ecosystem"
   ]
  },
  {
   "cell_type": "markdown",
   "id": "17410d25-ec18-4ac7-9d7e-64bdf9f875cd",
   "metadata": {},
   "source": [
    "In this notebook, Data Science Tools and Ecosystem are summarized.\n"
   ]
  },
  {
   "cell_type": "markdown",
   "id": "6798f1c3-71c3-4f03-8fc3-ac97664f3589",
   "metadata": {},
   "source": [
    "Some of the popular languages that Data Scientists use are:\n",
    "ordered list contains :-\n",
    "        1- Python.\n",
    "        2- R language.\n",
    "        3- Julia.\n",
    "        4- Go."
   ]
  },
  {
   "cell_type": "markdown",
   "id": "a493a93c-1c60-46c7-a1f8-150ffe1b36cc",
   "metadata": {},
   "source": [
    "Some of the commonly used libraries used by Data Scientists include:"
   ]
  },
  {
   "cell_type": "markdown",
   "id": "f86305ae-26e2-4852-b6b9-20a3d560d879",
   "metadata": {},
   "source": [
    "1- Numpy.\n",
    "2- Pandas.\n",
    "3- Plotly.\n",
    "4- Scikit."
   ]
  },
  {
   "cell_type": "markdown",
   "id": "783abac2-ccca-4820-becf-9f666cb8b853",
   "metadata": {},
   "source": [
    "|Data Science Tool |\n",
    "|:----------------:|\n",
    "|Tensorflow|\n",
    "|Apache Spark|\n",
    "|D3.js|\n",
    "|Scrapy|\n",
    "Tableau|\n",
    "|SQL|"
   ]
  },
  {
   "cell_type": "markdown",
   "id": "081802bd-c5c9-43e3-b949-f8efcda4b1e7",
   "metadata": {
    "tags": []
   },
   "source": [
    "## Below are a few examples of evaluating arithmetic expressions in Python.\n"
   ]
  },
  {
   "cell_type": "markdown",
   "id": "50210b16-6574-41da-9f11-f55fd3b9ae63",
   "metadata": {
    "tags": []
   },
   "source": [
    "### 1- Addition.\n",
    "### 2- Substraction.\n",
    "### 3- Multiplication.\n",
    "### 4- Exponential."
   ]
  },
  {
   "cell_type": "code",
   "execution_count": 4,
   "id": "ac498e61-5da9-4cdf-bba4-381891883cad",
   "metadata": {
    "tags": []
   },
   "outputs": [
    {
     "name": "stdout",
     "output_type": "stream",
     "text": [
      "4651\n"
     ]
    }
   ],
   "source": [
    "#Let a and b be the value entered below:-\n",
    "a = 10 \n",
    "b = 21\n",
    "e = 221\n",
    "c = a + b * e\n",
    "print(c)"
   ]
  },
  {
   "cell_type": "code",
   "execution_count": 7,
   "id": "5c64ef54-72d7-4f7e-a6f7-2a551089d2e2",
   "metadata": {
    "tags": []
   },
   "outputs": [
    {
     "data": {
      "text/plain": [
       "20"
      ]
     },
     "execution_count": 7,
     "metadata": {},
     "output_type": "execute_result"
    }
   ],
   "source": [
    "#The below example converts hours into minutes.\n",
    "#This will convert 200 minutes to hours by diving by 60.\n",
    "200%60"
   ]
  },
  {
   "cell_type": "markdown",
   "id": "16ad68c2-e806-4827-8230-1bbc5cb689c0",
   "metadata": {},
   "source": [
    "## Every thing covered in this course\n",
    "### 1- Languages used in data science.\n",
    "### 2- Tools used in data science.\n",
    "### 3- Kernels used in Data science."
   ]
  },
  {
   "cell_type": "markdown",
   "id": "c982489e-2b18-49f7-b667-9dd6a2fa3653",
   "metadata": {
    "tags": []
   },
   "source": [
    "## Author\n",
    "Harikrishna panchal"
   ]
  },
  {
   "cell_type": "code",
   "execution_count": null,
   "id": "ebc09d75-1b07-4279-9ec1-05f337442889",
   "metadata": {},
   "outputs": [],
   "source": []
  }
 ],
 "metadata": {
  "kernelspec": {
   "display_name": "Python",
   "language": "python",
   "name": "conda-env-python-py"
  },
  "language_info": {
   "codemirror_mode": {
    "name": "ipython",
    "version": 3
   },
   "file_extension": ".py",
   "mimetype": "text/x-python",
   "name": "python",
   "nbconvert_exporter": "python",
   "pygments_lexer": "ipython3",
   "version": "3.7.12"
  }
 },
 "nbformat": 4,
 "nbformat_minor": 5
}
